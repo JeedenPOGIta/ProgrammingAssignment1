{
 "cells": [
  {
   "cell_type": "markdown",
   "id": "dce67110-7509-45a8-86e5-36c73a3c44ea",
   "metadata": {},
   "source": [
    "# Programming assignment 1 - PROBLEM NO.1"
   ]
  },
  {
   "cell_type": "code",
   "execution_count": 2,
   "id": "4038fae2-4163-4b40-81ba-6b8e4d6a7786",
   "metadata": {},
   "outputs": [],
   "source": [
    "#Create a function that takes a string and returns a string with its letters in alphabetical order.\n",
    "#Example: alphabet_soup(“hello”) ➞ ehllo : alphabet_soup(“hacker”) ➞ acehkr"
   ]
  },
  {
   "cell_type": "markdown",
   "id": "c32589f8-1d45-4e47-be78-b83f175eaa22",
   "metadata": {},
   "source": [
    "### [START OF CODE]"
   ]
  },
  {
   "cell_type": "code",
   "execution_count": 1,
   "id": "9b056be5-efd8-4c3a-ac26-2f2bd1bfdf18",
   "metadata": {},
   "outputs": [
    {
     "name": "stdin",
     "output_type": "stream",
     "text": [
      "Please enter a word(s) to sort in alphabetical order: JAIDEN dee A. Cruz\n"
     ]
    },
    {
     "name": "stdout",
     "output_type": "stream",
     "text": [
      "Your chosen word(s) is/are: JAIDEN dee A. Cruz\n",
      "\n",
      "Sorting in alphabetical order...\n",
      "aacddeeeijnruz\n"
     ]
    }
   ],
   "source": [
    "# Ask for user input and set it to a variable\n",
    "word = input(\"Please enter a word(s) to sort in alphabetical order:\")\n",
    "\n",
    "# Display the input\n",
    "print(\"Your chosen word(s) is/are:\", word)\n",
    "print(\"\")\n",
    "print(\"Sorting in alphabetical order...\")\n",
    "\n",
    "# Turn the string into lower cases because capitalized letters have different values\n",
    "word = word.lower()\n",
    "\n",
    "# Remove any white spaces on the left and the right\n",
    "word.strip()\n",
    "\n",
    "# Return only the letters in the string that was input\n",
    "word = ''.join(char for char in word if char.isalpha())\n",
    "\n",
    "# Sort the letters and make the list into a single string\n",
    "final = ''.join(sorted(word))\n",
    "\n",
    "# Display final output\n",
    "print(final)"
   ]
  },
  {
   "cell_type": "markdown",
   "id": "16be7fbc-f6a8-485e-a0dd-74b5e21b3ea4",
   "metadata": {},
   "source": [
    "### [END OF CODE]"
   ]
  },
  {
   "cell_type": "code",
   "execution_count": null,
   "id": "0fbe2115-b4dc-484c-b8ce-d02d77d5f937",
   "metadata": {},
   "outputs": [],
   "source": []
  }
 ],
 "metadata": {
  "kernelspec": {
   "display_name": "Python 3 (ipykernel)",
   "language": "python",
   "name": "python3"
  },
  "language_info": {
   "codemirror_mode": {
    "name": "ipython",
    "version": 3
   },
   "file_extension": ".py",
   "mimetype": "text/x-python",
   "name": "python",
   "nbconvert_exporter": "python",
   "pygments_lexer": "ipython3",
   "version": "3.12.4"
  }
 },
 "nbformat": 4,
 "nbformat_minor": 5
}
