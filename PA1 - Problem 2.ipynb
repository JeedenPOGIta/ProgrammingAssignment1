{
 "cells": [
  {
   "cell_type": "markdown",
   "id": "e40102aa-2fb0-4489-87bc-cb3407a3aa52",
   "metadata": {},
   "source": [
    "# Programming Assignment 1 - Problem 2"
   ]
  },
  {
   "cell_type": "code",
   "execution_count": null,
   "id": "99a5915c-b186-4248-bd05-015ae7e2e26f",
   "metadata": {},
   "outputs": [],
   "source": [
    "# EMOTICON PROBLEM: Create a function that changes specific words into emoticons. Given a sentence\n",
    "# as a string, replace the words smile, grin, sad, and mad with their corresponding emoticon:\n",
    "\n",
    "# Example:\n",
    "# emotify(“Make me smile”) ➞ Make me :)\n",
    "# emotify(“I am mad”) ➞ I am >:("
   ]
  },
  {
   "cell_type": "markdown",
   "id": "2eaee3ad-ee4e-4e68-b604-c1ed2f4abf48",
   "metadata": {},
   "source": [
    "### [START OF CODE]"
   ]
  },
  {
   "cell_type": "code",
   "execution_count": 36,
   "id": "1449ef76-82ff-4384-8757-ace181bc180b",
   "metadata": {},
   "outputs": [
    {
     "name": "stdout",
     "output_type": "stream",
     "text": [
      "\n"
     ]
    },
    {
     "name": "stdin",
     "output_type": "stream",
     "text": [
      "Enter a statement: inside out sad mad grin smile\n"
     ]
    },
    {
     "name": "stdout",
     "output_type": "stream",
     "text": [
      "inside out :(( >:( :D :) \n"
     ]
    }
   ],
   "source": [
    "# Ask for an input \n",
    "print(\"\")\n",
    "statement = input(\"Enter a statement:\")\n",
    "\n",
    "# Split the words in the statement - this makes the strings to a list\n",
    "hiwalay = statement.split()\n",
    "\n",
    "# Create a dictionary to store values in words\n",
    "emotes = { \"smile\": \":)\", \"grin\": \":D\", \"sad\": \":((\",\"mad\": \">:(\" }\n",
    "\n",
    "# output variable\n",
    "final = \"\"\n",
    "    \n",
    "# For loop to check if a word in the list corresponds to a value in the dictionary\n",
    "for word in hiwalay: final += emotes.get(word, word) + \" \" \n",
    "\n",
    "\n",
    "# display\n",
    "print(final)"
   ]
  },
  {
   "cell_type": "markdown",
   "id": "0e52f915-dbd0-4525-afa1-61f3bb30d701",
   "metadata": {},
   "source": [
    "### [END OF CODE]"
   ]
  }
 ],
 "metadata": {
  "kernelspec": {
   "display_name": "Python 3 (ipykernel)",
   "language": "python",
   "name": "python3"
  },
  "language_info": {
   "codemirror_mode": {
    "name": "ipython",
    "version": 3
   },
   "file_extension": ".py",
   "mimetype": "text/x-python",
   "name": "python",
   "nbconvert_exporter": "python",
   "pygments_lexer": "ipython3",
   "version": "3.12.4"
  }
 },
 "nbformat": 4,
 "nbformat_minor": 5
}
