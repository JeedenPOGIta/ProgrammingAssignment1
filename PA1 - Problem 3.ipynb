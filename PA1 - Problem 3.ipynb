{
 "cells": [
  {
   "cell_type": "markdown",
   "id": "284f7a94-7a66-4bb9-9655-ec0e430b7afa",
   "metadata": {},
   "source": [
    "# Programming Assignment 1 - Problem no.3"
   ]
  },
  {
   "cell_type": "code",
   "execution_count": null,
   "id": "9d79ec6d-0a92-4dde-904e-31d593a9c3ec",
   "metadata": {},
   "outputs": [],
   "source": [
    "# UNPACKING LIST PROBLEM: Unpack the list writeyourcodehere into three variables, being first,\n",
    "# middle, and last, with middle being everything in between the first and last element. Then print all three variables."
   ]
  },
  {
   "cell_type": "markdown",
   "id": "077c2faf-444c-4c38-b3dc-472d7fb84ff5",
   "metadata": {},
   "source": [
    "### [START OF CODE]"
   ]
  },
  {
   "cell_type": "code",
   "execution_count": 12,
   "id": "e1cc9f0f-c7ea-4016-af76-8618e9ed789f",
   "metadata": {},
   "outputs": [
    {
     "name": "stdout",
     "output_type": "stream",
     "text": [
      "\n",
      "list = [1, 2, 3, 4, 5, 31, 44, 45, 100]\n",
      "\n",
      "List unpacked...\n",
      "first: 1 middle: [2, 3, 4, 5, 31, 44, 45] last: 100\n"
     ]
    }
   ],
   "source": [
    "# This is the value of the list - assign variables to each element\n",
    "list = [1,2,3,4,5,31,44,45,100]\n",
    "list1st,*listmiddle,listlast = [1,2,3,4,5,31,44,45,100]\n",
    "\n",
    "# Display the list\n",
    "print(\"\")\n",
    "print(\"list =\",list)\n",
    "\n",
    "# Display yung first, middle, last\n",
    "print(\"\")\n",
    "print(\"List unpacked...\")\n",
    "print(\"first:\", list1st , \"middle:\", listmiddle ,\"last:\", listlast)\n"
   ]
  },
  {
   "cell_type": "markdown",
   "id": "8a1ccf54-537e-4145-8956-e22842642bbb",
   "metadata": {},
   "source": []
  }
 ],
 "metadata": {
  "kernelspec": {
   "display_name": "Python 3 (ipykernel)",
   "language": "python",
   "name": "python3"
  },
  "language_info": {
   "codemirror_mode": {
    "name": "ipython",
    "version": 3
   },
   "file_extension": ".py",
   "mimetype": "text/x-python",
   "name": "python",
   "nbconvert_exporter": "python",
   "pygments_lexer": "ipython3",
   "version": "3.12.4"
  }
 },
 "nbformat": 4,
 "nbformat_minor": 5
}
